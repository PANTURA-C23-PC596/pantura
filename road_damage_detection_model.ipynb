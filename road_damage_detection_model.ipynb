{
  "nbformat": 4,
  "nbformat_minor": 0,
  "metadata": {
    "colab": {
      "provenance": [],
      "gpuType": "T4",
      "include_colab_link": true
    },
    "kernelspec": {
      "name": "python3",
      "display_name": "Python 3"
    },
    "language_info": {
      "name": "python"
    },
    "accelerator": "GPU"
  },
  "cells": [
    {
      "cell_type": "markdown",
      "metadata": {
        "id": "view-in-github",
        "colab_type": "text"
      },
      "source": [
        "<a href=\"https://colab.research.google.com/github/fatrrr/pantura/blob/main/road_damage_detection_model.ipynb\" target=\"_parent\"><img src=\"https://colab.research.google.com/assets/colab-badge.svg\" alt=\"Open In Colab\"/></a>"
      ]
    },
    {
      "cell_type": "code",
      "source": [
        "try:\n",
        "    %tensorflow_version 2.x\n",
        "except:\n",
        "    pass"
      ],
      "metadata": {
        "colab": {
          "base_uri": "https://localhost:8080/"
        },
        "id": "7ZTsZfNR-ixk",
        "outputId": "8c5b5693-ee9d-4f34-8e5c-9d7fe5f41cfb"
      },
      "execution_count": null,
      "outputs": [
        {
          "output_type": "stream",
          "name": "stdout",
          "text": [
            "Colab only includes TensorFlow 2.x; %tensorflow_version has no effect.\n"
          ]
        }
      ]
    },
    {
      "cell_type": "code",
      "execution_count": null,
      "metadata": {
        "id": "zk4sDfey0mHc"
      },
      "outputs": [],
      "source": [
        "import tensorflow as tf\n",
        "import tensorflow_hub as hub\n",
        "import numpy as np\n",
        "import matplotlib as plt\n",
        "import os\n",
        "import cv2\n",
        "import sklearn"
      ]
    },
    {
      "cell_type": "code",
      "source": [
        "#Connect to Google Drive\n",
        "from google.colab import drive\n",
        "drive.mount('/content/drive')"
      ],
      "metadata": {
        "colab": {
          "base_uri": "https://localhost:8080/"
        },
        "id": "9Hj36wwq7ePl",
        "outputId": "a16ce102-99f8-4142-a1cd-2694df5c21b9"
      },
      "execution_count": null,
      "outputs": [
        {
          "output_type": "stream",
          "name": "stdout",
          "text": [
            "Drive already mounted at /content/drive; to attempt to forcibly remount, call drive.mount(\"/content/drive\", force_remount=True).\n"
          ]
        }
      ]
    },
    {
      "cell_type": "code",
      "source": [
        "'''\n",
        "import zipfile\n",
        "zip_dir = \"/content/drive/Shareddrives/Product Capstone Project/colab_notebook/road_damage_prioritize_dataset.zip\"\n",
        "destination_dir= \"/content/drive/Shareddrives/Product Capstone Project/colab_notebook/\"\n",
        "\n",
        "with zipfile.ZipFile(zip_dir, 'r') as zip_ref:\n",
        "  zip_ref.extractall(destination_dir)\n",
        "\n",
        "zip_ref.close()\n",
        "'''"
      ],
      "metadata": {
        "colab": {
          "base_uri": "https://localhost:8080/",
          "height": 53
        },
        "id": "bE-9rG4S0zGt",
        "outputId": "af4b86c7-5eeb-4020-c26b-aa45f8268c03"
      },
      "execution_count": null,
      "outputs": [
        {
          "output_type": "execute_result",
          "data": {
            "text/plain": [
              "'\\nimport zipfile\\nzip_dir = \"/content/drive/Shareddrives/Product Capstone Project/colab_notebook/road_damage_prioritize_dataset.zip\"\\ndestination_dir= \"/content/drive/Shareddrives/Product Capstone Project/colab_notebook/\"\\n\\nwith zipfile.ZipFile(zip_dir, \\'r\\') as zip_ref:\\n  zip_ref.extractall(destination_dir)\\n\\nzip_ref.close()\\n'"
            ],
            "application/vnd.google.colaboratory.intrinsic+json": {
              "type": "string"
            }
          },
          "metadata": {},
          "execution_count": 22
        }
      ]
    },
    {
      "cell_type": "markdown",
      "source": [
        "**Transfer Learning**"
      ],
      "metadata": {
        "id": "t0BeVquiFnW8"
      }
    },
    {
      "cell_type": "code",
      "source": [
        "'''\n",
        "m = tf.keras.Sequential([\n",
        "    hub.KerasLayer(\"https://tfhub.dev/tensorflow/efficientnet/b0/feature-vector/1\",\n",
        "                   trainable=False),  # Can be True, see below.\n",
        "    tf.keras.layers.Dense(num_classes, activation='softmax')\n",
        "])\n",
        "m.build([None, expect_img_size, expect_img_size, 3])  # Batch input shape.\n",
        "'''"
      ],
      "metadata": {
        "id": "LBsKlUSsRzFS",
        "colab": {
          "base_uri": "https://localhost:8080/",
          "height": 53
        },
        "outputId": "8e59294f-2ed7-4bed-cba0-47f4e6887e35"
      },
      "execution_count": null,
      "outputs": [
        {
          "output_type": "execute_result",
          "data": {
            "text/plain": [
              "'\\nm = tf.keras.Sequential([\\n\\xa0 \\xa0 hub.KerasLayer(\"https://tfhub.dev/tensorflow/efficientnet/b0/feature-vector/1\",\\n\\xa0 \\xa0 \\xa0 \\xa0 \\xa0 \\xa0 \\xa0   \\xa0 \\xa0trainable=False), \\xa0# Can be True, see below.\\n\\xa0 \\xa0 tf.keras.layers.Dense(num_classes, activation=\\'softmax\\')\\n])\\nm.build([None, expect_img_size, expect_img_size, 3]) \\xa0# Batch input shape.\\n'"
            ],
            "application/vnd.google.colaboratory.intrinsic+json": {
              "type": "string"
            }
          },
          "metadata": {},
          "execution_count": 23
        }
      ]
    },
    {
      "cell_type": "code",
      "source": [
        "MODULE_HANDLE = \"https://tfhub.dev/tensorflow/efficientnet/b0/feature-vector/1\"\n",
        "pixels = 224\n",
        "FV_SIZE = 1280\n",
        "IMAGE_SIZE =(pixels, pixels)\n",
        "\n",
        "feature_extractor = hub.KerasLayer(MODULE_HANDLE,\n",
        "                                   input_shape=IMAGE_SIZE + (3,), \n",
        "                                   output_shape=[FV_SIZE],\n",
        "                                   trainable=False)"
      ],
      "metadata": {
        "id": "xv0zmrvUFqVm"
      },
      "execution_count": null,
      "outputs": []
    },
    {
      "cell_type": "code",
      "source": [
        "'''NUM_LAYERS = 10\n",
        "\n",
        "if do_fine_tuning:\n",
        "    feature_extractor.trainable = True\n",
        "    \n",
        "    for layer in model.layers[-NUM_LAYERS:]:\n",
        "        layer.trainable = True\n",
        "\n",
        "else:\n",
        "    feature_extractor.trainable = False'''"
      ],
      "metadata": {
        "id": "E1mwgytdLsKz",
        "colab": {
          "base_uri": "https://localhost:8080/",
          "height": 35
        },
        "outputId": "27d1f54b-8bad-4716-8613-3dc4e6a4cbe5"
      },
      "execution_count": null,
      "outputs": [
        {
          "output_type": "execute_result",
          "data": {
            "text/plain": [
              "'NUM_LAYERS = 10\\n\\nif do_fine_tuning:\\n    feature_extractor.trainable = True\\n    \\n    for layer in model.layers[-NUM_LAYERS:]:\\n        layer.trainable = True\\n\\nelse:\\n    feature_extractor.trainable = False'"
            ],
            "application/vnd.google.colaboratory.intrinsic+json": {
              "type": "string"
            }
          },
          "metadata": {},
          "execution_count": 25
        }
      ]
    },
    {
      "cell_type": "markdown",
      "source": [
        "# Image Processing"
      ],
      "metadata": {
        "id": "b5vFyWWl5Fow"
      }
    },
    {
      "cell_type": "code",
      "source": [
        "data_dir =  \"/content/drive/Shareddrives/Product Capstone Project/colab_notebook/sih_road_dataset\"\n",
        "labels = [\"tidak_ada_kerusakan\", \"rendah\", \"sedang\", \"tinggi\"]\n",
        "x = []\n",
        "y = []\n",
        "for label in labels:\n",
        "    data = os.path.join(data_dir,label)\n",
        "    for image in os.listdir(data):\n",
        "        try:\n",
        "            img = cv2.imread(os.path.join(data, image), cv2.IMREAD_COLOR)\n",
        "            img = cv2.resize(img, IMAGE_SIZE)\n",
        "            \n",
        "            x.append(img)\n",
        "            y.append(labels.index(label))\n",
        "            \n",
        "        except Exception as e:\n",
        "            pass"
      ],
      "metadata": {
        "id": "SLITfcIc5dCE"
      },
      "execution_count": null,
      "outputs": []
    },
    {
      "cell_type": "code",
      "source": [
        "np.unique(y)\n",
        "np.unique(x)\n",
        "\n",
        "x = np.array(x)/255.0\n",
        "y = np.array(y)\n",
        "\n",
        "x.shape\n",
        "y.shape\n",
        "\n",
        "x = x.reshape(-1, pixels, pixels, 3)\n",
        "x.shape\n",
        "\n",
        "y = y.reshape(-1, 1)"
      ],
      "metadata": {
        "id": "0xKRB8CD8TOU"
      },
      "execution_count": null,
      "outputs": []
    },
    {
      "cell_type": "code",
      "source": [
        "y = tf.keras.utils.to_categorical(y, 4)\n",
        "\n",
        "from tensorflow.keras.preprocessing.image import ImageDataGenerator\n",
        "\n",
        "datagenerator = ImageDataGenerator(\n",
        "      width_shift_range=0.2,\n",
        "      height_shift_range=0.2,\n",
        "      shear_range=0.1,\n",
        "      zoom_range=0.1,\n",
        "      horizontal_flip=False,\n",
        "      vertical_flip=False,\n",
        "      fill_mode='nearest')\n",
        "\n",
        "datagenerator.fit(x)"
      ],
      "metadata": {
        "id": "90Limwn8CSVE"
      },
      "execution_count": null,
      "outputs": []
    },
    {
      "cell_type": "code",
      "source": [
        "from sklearn.model_selection import train_test_split\n",
        "x_train, x_test, y_train, y_test = train_test_split(x, y)"
      ],
      "metadata": {
        "id": "DcrbVoCbAWEV"
      },
      "execution_count": null,
      "outputs": []
    },
    {
      "cell_type": "code",
      "source": [
        "train_generator = datagenerator.flow(x_train, y_train, batch_size=32)\n",
        "val_generator = datagenerator.flow(x_test, y_test)"
      ],
      "metadata": {
        "id": "hqBXwQuaMj3r"
      },
      "execution_count": null,
      "outputs": []
    },
    {
      "cell_type": "markdown",
      "source": [
        "# Model"
      ],
      "metadata": {
        "id": "2n4JBdpgLb_T"
      }
    },
    {
      "cell_type": "markdown",
      "source": [
        "**Model**"
      ],
      "metadata": {
        "id": "mnUCx5HdLmHb"
      }
    },
    {
      "cell_type": "code",
      "source": [
        "model = tf.keras.Sequential([\n",
        "    feature_extractor,\n",
        "    tf.keras.layers.Dense(4, activation='softmax'),\n",
        "])\n",
        "\n",
        "#Load Weight\n",
        "\n",
        "model.load_weights('/content/drive/Shareddrives/Product Capstone Project/colab_notebook/checkpoints/')\n",
        "\n",
        "model.compile(\n",
        "    optimizer=tf.keras.optimizers.Adam(learning_rate=1e-3),\n",
        "    loss='categorical_crossentropy',\n",
        "    metrics=['accuracy']\n",
        ")\n",
        "\n",
        "model.summary()"
      ],
      "metadata": {
        "id": "hJ5bVnJDA6sp",
        "colab": {
          "base_uri": "https://localhost:8080/"
        },
        "outputId": "dbd4406c-bad1-4ae0-c5ea-240fa343f1a2"
      },
      "execution_count": null,
      "outputs": [
        {
          "output_type": "stream",
          "name": "stdout",
          "text": [
            "Model: \"sequential_1\"\n",
            "_________________________________________________________________\n",
            " Layer (type)                Output Shape              Param #   \n",
            "=================================================================\n",
            " keras_layer_1 (KerasLayer)  (None, 1280)              4049564   \n",
            "                                                                 \n",
            " dense_1 (Dense)             (None, 4)                 5124      \n",
            "                                                                 \n",
            "=================================================================\n",
            "Total params: 4,054,688\n",
            "Trainable params: 5,124\n",
            "Non-trainable params: 4,049,564\n",
            "_________________________________________________________________\n"
          ]
        }
      ]
    },
    {
      "cell_type": "code",
      "source": [
        "earlystop = tf.keras.callbacks.EarlyStopping(monitor='val_loss',patience=4,restore_best_weights=True)\n",
        "\n",
        "model.fit(\n",
        "    train_generator,\n",
        "    epochs=1,\n",
        "    callbacks=[earlystop],\n",
        "    validation_data=val_generator\n",
        ")"
      ],
      "metadata": {
        "id": "1LOJdV56GDvb",
        "colab": {
          "base_uri": "https://localhost:8080/"
        },
        "outputId": "f40c9e6d-2dc1-4759-c906-3713bf497df1"
      },
      "execution_count": null,
      "outputs": [
        {
          "output_type": "stream",
          "name": "stdout",
          "text": [
            "49/49 [==============================] - 232s 5s/step - loss: 0.0340 - accuracy: 0.9884 - val_loss: 0.0406 - val_accuracy: 0.9846\n"
          ]
        },
        {
          "output_type": "execute_result",
          "data": {
            "text/plain": [
              "<keras.callbacks.History at 0x7f0bb838e080>"
            ]
          },
          "metadata": {},
          "execution_count": 33
        }
      ]
    },
    {
      "cell_type": "code",
      "source": [
        "#Save weight\n",
        "\n",
        "#weight_path_ckpt = \"/content/drive/Shareddrives/Product Capstone Project/colab_notebook/checkpoints/\"\n",
        "#model.save_weights(weight_path_ckpt)"
      ],
      "metadata": {
        "id": "sz3hKBB0Sp95"
      },
      "execution_count": null,
      "outputs": []
    },
    {
      "cell_type": "code",
      "source": [
        "#tf.keras.backend.clear_session()"
      ],
      "metadata": {
        "id": "vgkCwUiR3roK"
      },
      "execution_count": null,
      "outputs": []
    },
    {
      "cell_type": "code",
      "source": [
        "#tensorboard\n",
        "'''import datetime\n",
        "\n",
        "log_dir = \"logs/fit/\" + datetime.datetime.now().strftime(\"%Y%m%d-%H%M%S\")\n",
        "\n",
        "tensorboard_callback = tf.keras.callbacks.TensorBoard(log_dir=log_dir, histogram_freq=1)\n",
        "\n",
        "model.fit(\n",
        "    train_generator,\n",
        "    epochs=10,\n",
        "    callbacks=[tensorboard_callback],\n",
        "    validation_data=val_generator\n",
        ")'''"
      ],
      "metadata": {
        "id": "B7J9IMkM27QR"
      },
      "execution_count": null,
      "outputs": []
    },
    {
      "cell_type": "code",
      "source": [
        "#!tensorboard dev upload --logdir ./logs"
      ],
      "metadata": {
        "id": "M-0MXwYN27QS"
      },
      "execution_count": null,
      "outputs": []
    }
  ]
}